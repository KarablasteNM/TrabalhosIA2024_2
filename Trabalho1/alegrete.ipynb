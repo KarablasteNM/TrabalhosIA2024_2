{
  "cells": [
    {
      "cell_type": "markdown",
      "metadata": {
        "id": "fM1tzPvICydP"
      },
      "source": [
        "**Pressione SHIFT+ENTER para executar a célula**"
      ]
    },
    {
      "cell_type": "markdown",
      "metadata": {
        "id": "EtGzW6k4-epp"
      },
      "source": [
        "# Alegrete\n",
        "\n",
        "Este notebook fornece algumas visualizações para o trabalho de regressão linear. Para conseguir usar, implemente as funções no seu `alegrete.py` e tenha as bibliotecas `numpy` e `matplotlib` instaladas.\n",
        "\n",
        "O notebook usa um conjunto de dados sintetico. Adapte-o para carregar e usar os dados do `alegrete.csv`."
      ]
    },
    {
      "cell_type": "markdown",
      "metadata": {
        "id": "4YJqTGeQC59A"
      },
      "source": [
        "### Imports das bibliotecas de plot e da solucao implementada"
      ]
    },
    {
      "cell_type": "code",
      "execution_count": 2,
      "metadata": {
        "id": "k77xaJfA-epq"
      },
      "outputs": [],
      "source": [
        "%matplotlib inline\n",
        "from IPython.display import HTML\n",
        "import numpy as np\n",
        "import matplotlib.pyplot as plt\n",
        "import matplotlib.animation as animation\n",
        "\n",
        "import alegrete"
      ]
    },
    {
      "cell_type": "markdown",
      "metadata": {
        "id": "0q-q8220C59B"
      },
      "source": [
        "### Visualizacao dos dados"
      ]
    },
    {
      "cell_type": "code",
      "execution_count": 4,
      "metadata": {
        "id": "E9HoBdK3-epu"
      },
      "outputs": [
        {
          "ename": "AttributeError",
          "evalue": "module 'numpy' has no attribute 'read_csv'",
          "output_type": "error",
          "traceback": [
            "\u001b[0;31m---------------------------------------------------------------------------\u001b[0m",
            "\u001b[0;31mAttributeError\u001b[0m                            Traceback (most recent call last)",
            "Cell \u001b[0;32mIn[4], line 3\u001b[0m\n\u001b[1;32m      1\u001b[0m \u001b[38;5;66;03m# dataset ficticio -- troque para carregar o alegrete.csv\u001b[39;00m\n\u001b[0;32m----> 3\u001b[0m dataset \u001b[38;5;241m=\u001b[39m \u001b[43mnp\u001b[49m\u001b[38;5;241;43m.\u001b[39;49m\u001b[43mread_csv\u001b[49m(\u001b[38;5;124m'\u001b[39m\u001b[38;5;124malegrete.csv\u001b[39m\u001b[38;5;124m'\u001b[39m)\n\u001b[1;32m      4\u001b[0m dataset\u001b[38;5;241m=\u001b[39mnp\u001b[38;5;241m.\u001b[39marray(dataset)\n\u001b[1;32m      6\u001b[0m \u001b[38;5;66;03m#Gráfico dos dados\u001b[39;00m\n",
            "File \u001b[0;32m~/.local/lib/python3.10/site-packages/numpy/__init__.py:333\u001b[0m, in \u001b[0;36m__getattr__\u001b[0;34m(attr)\u001b[0m\n\u001b[1;32m    330\u001b[0m     \u001b[38;5;124m\"\u001b[39m\u001b[38;5;124mRemoved in NumPy 1.25.0\u001b[39m\u001b[38;5;124m\"\u001b[39m\n\u001b[1;32m    331\u001b[0m     \u001b[38;5;28;01mraise\u001b[39;00m \u001b[38;5;167;01mRuntimeError\u001b[39;00m(\u001b[38;5;124m\"\u001b[39m\u001b[38;5;124mTester was removed in NumPy 1.25.\u001b[39m\u001b[38;5;124m\"\u001b[39m)\n\u001b[0;32m--> 333\u001b[0m \u001b[38;5;28;01mraise\u001b[39;00m \u001b[38;5;167;01mAttributeError\u001b[39;00m(\u001b[38;5;124m\"\u001b[39m\u001b[38;5;124mmodule \u001b[39m\u001b[38;5;132;01m{!r}\u001b[39;00m\u001b[38;5;124m has no attribute \u001b[39m\u001b[38;5;124m\"\u001b[39m\n\u001b[1;32m    334\u001b[0m                      \u001b[38;5;124m\"\u001b[39m\u001b[38;5;132;01m{!r}\u001b[39;00m\u001b[38;5;124m\"\u001b[39m\u001b[38;5;241m.\u001b[39mformat(\u001b[38;5;18m__name__\u001b[39m, attr))\n",
            "\u001b[0;31mAttributeError\u001b[0m: module 'numpy' has no attribute 'read_csv'"
          ]
        }
      ],
      "source": [
        "# dataset ficticio -- troque para carregar o alegrete.csv\n",
        "\n",
        "dataset = np.read_csv('alegrete.csv')\n",
        "dataset=np.array(dataset)\n",
        "\n",
        "#Gráfico dos dados\n",
        "plt.figure(figsize=(6, 2))\n",
        "plt.scatter(dataset[:,0], dataset[:,1])\n",
        "plt.xlabel('x')\n",
        "plt.ylabel('y')\n",
        "plt.title('Dados ficticios')\n",
        "plt.show()"
      ]
    },
    {
      "cell_type": "markdown",
      "metadata": {
        "id": "wnmqepye-ep_"
      },
      "source": [
        "### Execucao da regressao linear e calculo do EQM por epoca/iteracao\n",
        "\n",
        "Considere o parâmetro b o coeficiente linear (theta_0, visto em aula) e w o coeficiente angular (theta_1, visto em aula)."
      ]
    },
    {
      "cell_type": "code",
      "execution_count": null,
      "metadata": {
        "id": "x1VREIE7-eqA"
      },
      "outputs": [],
      "source": [
        "b_history, w_history = alegrete.fit(\n",
        "    dataset, b=0, w=0,\n",
        "    alpha=0.1, num_iterations=100\n",
        ")\n",
        "\n",
        "# valores finais de theta0 e theta1\n",
        "final_b, final_w = b_history[-1], w_history[-1]\n",
        "\n",
        "mse_list = [alegrete.compute_mse(b, w, dataset) for b, w in zip(b_history, w_history)]\n",
        "print(f\"EQM final: {mse_list[-1]}\")\n",
        "\n",
        "\n",
        "plt.plot(mse_list)\n",
        "plt.xlabel('Epoca/iteracao')\n",
        "plt.ylabel('EQM')\n",
        "plt.show()"
      ]
    },
    {
      "cell_type": "markdown",
      "metadata": {
        "id": "5v-y-qI3-ep7"
      },
      "source": [
        "### Plot da curva final"
      ]
    },
    {
      "cell_type": "code",
      "execution_count": null,
      "metadata": {
        "id": "WV6KIdPq-ep7"
      },
      "outputs": [],
      "source": [
        "#Imprimir parâmetros otimizados\n",
        "print (f'Curva encontrada: {final_w}*x + {final_b}')\n",
        "\n",
        "#plota os dados\n",
        "plt.figure(figsize=(4, 2))\n",
        "plt.scatter(dataset[:,0], dataset[:,1])\n",
        "\n",
        "# plota a curva de ajuste\n",
        "pred = final_w*dataset[:,0] + final_b\n",
        "plt.plot(dataset[:,0], pred, c='r')\n",
        "plt.show()\n",
        "\n",
        "\n"
      ]
    },
    {
      "cell_type": "markdown",
      "metadata": {
        "id": "XeXdBWc-Cic-"
      },
      "source": [
        "### Progresso da descida do gradiente com o número de iterações\n",
        "\n",
        "Execute a celula e use os controles abaixo do grafico para visualizar o progresso do seu ajuste\n",
        "\n",
        "Pode aparecer um grafico \"extra\" abaixo da animacao, apenas ignore."
      ]
    },
    {
      "cell_type": "code",
      "execution_count": null,
      "metadata": {
        "id": "pHGbi8nY-eqI"
      },
      "outputs": [],
      "source": [
        "fig = plt.figure(figsize=(4, 2))\n",
        "ax = fig.add_subplot(111)\n",
        "\n",
        "# conjunto de dados\n",
        "ax.scatter(dataset[:,0], dataset[:,1])\n",
        "\n",
        "# linha com os valores iniciais dos parametros\n",
        "pred = w_history[0]*dataset[:,0] + b_history[0]\n",
        "line, = ax.plot(dataset[:,0], pred, '-',c='r')\n",
        "\n",
        "# funcao que atualiza a linha a cada passo\n",
        "def animate(i):\n",
        "    pred = w_history[i] * dataset[:,0] + b_history[i]\n",
        "    line.set_ydata(pred)\n",
        "    return line,\n",
        "\n",
        "# mude interval para trocar a velocidade da animacao\n",
        "ani = animation.FuncAnimation(fig, animate, frames=len(b_history), interval=20, save_count=50)\n",
        "HTML(ani.to_jshtml())"
      ]
    }
  ],
  "metadata": {
    "colab": {
      "provenance": []
    },
    "kernelspec": {
      "display_name": "Python 3",
      "language": "python",
      "name": "python3"
    },
    "language_info": {
      "codemirror_mode": {
        "name": "ipython",
        "version": 3
      },
      "file_extension": ".py",
      "mimetype": "text/x-python",
      "name": "python",
      "nbconvert_exporter": "python",
      "pygments_lexer": "ipython3",
      "version": "3.10.12"
    }
  },
  "nbformat": 4,
  "nbformat_minor": 0
}
